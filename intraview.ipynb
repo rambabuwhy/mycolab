{
  "nbformat": 4,
  "nbformat_minor": 0,
  "metadata": {
    "colab": {
      "provenance": [],
      "authorship_tag": "ABX9TyNIUaENPmi++FHiZp4t6arG",
      "include_colab_link": true
    },
    "kernelspec": {
      "name": "python3",
      "display_name": "Python 3"
    },
    "language_info": {
      "name": "python"
    }
  },
  "cells": [
    {
      "cell_type": "markdown",
      "metadata": {
        "id": "view-in-github",
        "colab_type": "text"
      },
      "source": [
        "<a href=\"https://colab.research.google.com/github/rambabuwhy/mycolab/blob/main/intraview.ipynb\" target=\"_parent\"><img src=\"https://colab.research.google.com/assets/colab-badge.svg\" alt=\"Open In Colab\"/></a>"
      ]
    },
    {
      "cell_type": "code",
      "execution_count": 1,
      "metadata": {
        "colab": {
          "base_uri": "https://localhost:8080/"
        },
        "id": "mmZB7KvPEKgE",
        "outputId": "b5d700dd-2290-4957-9b86-9a28575d952b"
      },
      "outputs": [
        {
          "output_type": "stream",
          "name": "stdout",
          "text": [
            "['eat', 'tea', 'ate']\n",
            "['tan', 'nat']\n",
            "['bat']\n"
          ]
        }
      ],
      "source": [
        "from collections import defaultdict\n",
        "\n",
        "def group_anagrams(strs):\n",
        "    # Create a defaultdict to store anagrams, where the key is the sorted string and the value is a list of original strings.\n",
        "    anagrams = defaultdict(list)\n",
        "\n",
        "    # Iterate through each string in the input list.\n",
        "    for s in strs:\n",
        "        # Create a copy of the original string before sorting.\n",
        "        original = s\n",
        "\n",
        "        # Sort the characters of the string in lexicographical order.\n",
        "        sorted_s = ''.join(sorted(s))\n",
        "\n",
        "        # Use the sorted string as a key in the defaultdict and append the original string to the corresponding list.\n",
        "        anagrams[sorted_s].append(original)\n",
        "\n",
        "    # Convert the values of the defaultdict to a list to get the final result of grouped anagrams.\n",
        "    result = list(anagrams.values())\n",
        "\n",
        "    return result\n",
        "\n",
        "# Example usage:\n",
        "input_strs = [\"eat\", \"tea\", \"tan\", \"ate\", \"nat\", \"bat\"]\n",
        "output = group_anagrams(input_strs)\n",
        "\n",
        "# Print the grouped anagrams.\n",
        "for group in output:\n",
        "    print(group)\n"
      ]
    }
  ]
}