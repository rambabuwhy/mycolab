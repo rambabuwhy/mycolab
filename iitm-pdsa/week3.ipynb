{
  "nbformat": 4,
  "nbformat_minor": 0,
  "metadata": {
    "colab": {
      "provenance": [],
      "authorship_tag": "ABX9TyOdPDqhj/w58B5IA/Okat5O",
      "include_colab_link": true
    },
    "kernelspec": {
      "name": "python3",
      "display_name": "Python 3"
    },
    "language_info": {
      "name": "python"
    }
  },
  "cells": [
    {
      "cell_type": "markdown",
      "metadata": {
        "id": "view-in-github",
        "colab_type": "text"
      },
      "source": [
        "<a href=\"https://colab.research.google.com/github/rambabuwhy/mycolab/blob/main/week3.ipynb\" target=\"_parent\"><img src=\"https://colab.research.google.com/assets/colab-badge.svg\" alt=\"Open In Colab\"/></a>"
      ]
    },
    {
      "cell_type": "markdown",
      "source": [
        "# Quicksort Recursive"
      ],
      "metadata": {
        "id": "W-aloPqciLLp"
      }
    },
    {
      "cell_type": "code",
      "source": [
        "def quicksort(arr):\n",
        "    # Base case: if the array has 0 or 1 elements, it is already sorted\n",
        "    if len(arr) <= 1:\n",
        "        return arr\n",
        "    else:\n",
        "        # Choose a pivot element (in this case, the first element)\n",
        "        pivot = arr[0]\n",
        "\n",
        "        # Partition the array into elements less than or equal to the pivot\n",
        "        # and elements greater than the pivot\n",
        "        less = [x for x in arr[1:] if x <= pivot]\n",
        "        greater = [x for x in arr[1:] if x > pivot]\n",
        "\n",
        "        # Recursively apply quicksort to the two sub-arrays and concatenate them\n",
        "        # with the pivot in the middle to get the sorted array\n",
        "        return quicksort(less) + [pivot] + quicksort(greater)\n",
        "\n",
        "# Example usage:\n",
        "my_list = [3, 6, 8, 10, 1, 2, 1]\n",
        "sorted_list = quicksort(my_list)\n",
        "print(sorted_list)\n",
        "\n"
      ],
      "metadata": {
        "colab": {
          "base_uri": "https://localhost:8080/"
        },
        "id": "aKzJN5UaiJJZ",
        "outputId": "64cfd82a-d762-4f4d-d1e3-b4d165791e97"
      },
      "execution_count": 3,
      "outputs": [
        {
          "output_type": "stream",
          "name": "stdout",
          "text": [
            "[1, 1, 2, 3, 6, 8, 10]\n"
          ]
        }
      ]
    },
    {
      "cell_type": "markdown",
      "source": [
        "# Quicksort Iterative"
      ],
      "metadata": {
        "id": "JCRbw9-jh4-c"
      }
    },
    {
      "cell_type": "code",
      "execution_count": 1,
      "metadata": {
        "colab": {
          "base_uri": "https://localhost:8080/"
        },
        "id": "lptgXf0ohcDq",
        "outputId": "85721269-b072-4b99-f57b-c010c9a5ebb2"
      },
      "outputs": [
        {
          "output_type": "stream",
          "name": "stdout",
          "text": [
            "[1, 1, 2, 3, 6, 8, 10]\n"
          ]
        }
      ],
      "source": [
        "def quicksort_iterative(arr):\n",
        "    # Check if the array is empty or has only one element\n",
        "    if len(arr) <= 1:\n",
        "        return arr\n",
        "\n",
        "    # Create a stack to keep track of subarrays to be sorted\n",
        "    stack = [(0, len(arr) - 1)]\n",
        "\n",
        "    # Process the stack until it becomes empty\n",
        "    while stack:\n",
        "        # Pop the top subarray from the stack\n",
        "        low, high = stack.pop()\n",
        "\n",
        "        # Check if there are more than one element in the subarray\n",
        "        if low < high:\n",
        "            # Partition the subarray and get the pivot index\n",
        "            pivot_index = partition(arr, low, high)\n",
        "\n",
        "            # Push the subarrays created by the partition onto the stack\n",
        "            stack.append((low, pivot_index - 1))\n",
        "            stack.append((pivot_index + 1, high))\n",
        "\n",
        "    # The original array is now sorted in place\n",
        "    return arr\n",
        "\n",
        "def partition(arr, low, high):\n",
        "    # Choose the rightmost element as the pivot\n",
        "    pivot = arr[high]\n",
        "    i = low - 1\n",
        "\n",
        "    # Iterate through the subarray to rearrange elements\n",
        "    for j in range(low, high):\n",
        "        if arr[j] <= pivot:\n",
        "            # Swap elements if they are less than or equal to the pivot\n",
        "            i += 1\n",
        "            arr[i], arr[j] = arr[j], arr[i]\n",
        "\n",
        "    # Swap the pivot to its correct position\n",
        "    arr[i + 1], arr[high] = arr[high], arr[i + 1]\n",
        "\n",
        "    # Return the index of the pivot after rearrangement\n",
        "    return i + 1\n",
        "\n",
        "# Example usage:\n",
        "my_list = [3, 6, 8, 10, 1, 2, 1]\n",
        "quicksort_iterative(my_list)\n",
        "print(my_list)\n"
      ]
    }
  ]
}
