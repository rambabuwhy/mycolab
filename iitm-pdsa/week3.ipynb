{
  "nbformat": 4,
  "nbformat_minor": 0,
  "metadata": {
    "colab": {
      "provenance": [],
      "authorship_tag": "ABX9TyMdvt804lyOXJEKbk/3zSuU",
      "include_colab_link": true
    },
    "kernelspec": {
      "name": "python3",
      "display_name": "Python 3"
    },
    "language_info": {
      "name": "python"
    }
  },
  "cells": [
    {
      "cell_type": "markdown",
      "metadata": {
        "id": "view-in-github",
        "colab_type": "text"
      },
      "source": [
        "<a href=\"https://colab.research.google.com/github/rambabuwhy/mycolab/blob/main/week3.ipynb\" target=\"_parent\"><img src=\"https://colab.research.google.com/assets/colab-badge.svg\" alt=\"Open In Colab\"/></a>"
      ]
    },
    {
      "cell_type": "markdown",
      "source": [
        "# Quicksort Recursive"
      ],
      "metadata": {
        "id": "W-aloPqciLLp"
      }
    },
    {
      "cell_type": "code",
      "source": [
        "def quicksort(arr):\n",
        "    # Base case: if the array has 0 or 1 elements, it is already sorted\n",
        "    if len(arr) <= 1:\n",
        "        return arr\n",
        "    else:\n",
        "        # Choose a pivot element (in this case, the first element)\n",
        "        pivot = arr[0]\n",
        "\n",
        "        # Partition the array into elements less than or equal to the pivot\n",
        "        # and elements greater than the pivot\n",
        "        less = [x for x in arr[1:] if x <= pivot]\n",
        "        greater = [x for x in arr[1:] if x > pivot]\n",
        "\n",
        "        # Recursively apply quicksort to the two sub-arrays and concatenate them\n",
        "        # with the pivot in the middle to get the sorted array\n",
        "        return quicksort(less) + [pivot] + quicksort(greater)\n",
        "\n",
        "# Example usage:\n",
        "my_list = [3, 6, 8, 10, 1, 2, 1]\n",
        "sorted_list = quicksort(my_list)\n",
        "print(sorted_list)\n",
        "\n"
      ],
      "metadata": {
        "colab": {
          "base_uri": "https://localhost:8080/"
        },
        "id": "aKzJN5UaiJJZ",
        "outputId": "64cfd82a-d762-4f4d-d1e3-b4d165791e97"
      },
      "execution_count": null,
      "outputs": [
        {
          "output_type": "stream",
          "name": "stdout",
          "text": [
            "[1, 1, 2, 3, 6, 8, 10]\n"
          ]
        }
      ]
    },
    {
      "cell_type": "markdown",
      "source": [
        "# Quicksort Iterative"
      ],
      "metadata": {
        "id": "JCRbw9-jh4-c"
      }
    },
    {
      "cell_type": "code",
      "execution_count": null,
      "metadata": {
        "colab": {
          "base_uri": "https://localhost:8080/"
        },
        "id": "lptgXf0ohcDq",
        "outputId": "85721269-b072-4b99-f57b-c010c9a5ebb2"
      },
      "outputs": [
        {
          "output_type": "stream",
          "name": "stdout",
          "text": [
            "[1, 1, 2, 3, 6, 8, 10]\n"
          ]
        }
      ],
      "source": [
        "def quicksort_iterative(arr):\n",
        "    # Check if the array is empty or has only one element\n",
        "    if len(arr) <= 1:\n",
        "        return arr\n",
        "\n",
        "    # Create a stack to keep track of subarrays to be sorted\n",
        "    stack = [(0, len(arr) - 1)]\n",
        "\n",
        "    # Process the stack until it becomes empty\n",
        "    while stack:\n",
        "        # Pop the top subarray from the stack\n",
        "        low, high = stack.pop()\n",
        "\n",
        "        # Check if there are more than one element in the subarray\n",
        "        if low < high:\n",
        "            # Partition the subarray and get the pivot index\n",
        "            pivot_index = partition(arr, low, high)\n",
        "\n",
        "            # Push the subarrays created by the partition onto the stack\n",
        "            stack.append((low, pivot_index - 1))\n",
        "            stack.append((pivot_index + 1, high))\n",
        "\n",
        "    # The original array is now sorted in place\n",
        "    return arr\n",
        "\n",
        "def partition(arr, low, high):\n",
        "    # Choose the rightmost element as the pivot\n",
        "    pivot = arr[high]\n",
        "    i = low - 1\n",
        "\n",
        "    # Iterate through the subarray to rearrange elements\n",
        "    for j in range(low, high):\n",
        "        if arr[j] <= pivot:\n",
        "            # Swap elements if they are less than or equal to the pivot\n",
        "            i += 1\n",
        "            arr[i], arr[j] = arr[j], arr[i]\n",
        "\n",
        "    # Swap the pivot to its correct position\n",
        "    arr[i + 1], arr[high] = arr[high], arr[i + 1]\n",
        "\n",
        "    # Return the index of the pivot after rearrangement\n",
        "    return i + 1\n",
        "\n",
        "# Example usage:\n",
        "my_list = [3, 6, 8, 10, 1, 2, 1]\n",
        "quicksort_iterative(my_list)\n",
        "print(my_list)\n"
      ]
    },
    {
      "cell_type": "markdown",
      "source": [
        "# PPA1 DLL"
      ],
      "metadata": {
        "id": "0oJM0R4jeOip"
      }
    },
    {
      "cell_type": "code",
      "source": [
        "class Node:\n",
        "  def __init__(self, data):\n",
        "    self.data = data\n",
        "    self.next = None\n",
        "    self.prev = None\n",
        "class doubly_linked_list:\n",
        "  def __init__(self):\n",
        "    self.head = None\n",
        "    self.last = None\n",
        "\n",
        "  def insert_end(self, data):\n",
        "        new_node = Node(data)\n",
        "        if not self.head:\n",
        "            self.head = new_node\n",
        "            self.last = new_node\n",
        "        else:\n",
        "            new_node.prev = self.last\n",
        "            self.last.next = new_node\n",
        "            self.last = new_node\n",
        "\n",
        "  def delete_end(self):\n",
        "        if not self.head:\n",
        "            print(\"List is empty. Cannot delete from an empty list.\")\n",
        "            return\n",
        "        if self.head == self.last:\n",
        "            self.head = self.last = None\n",
        "        else:\n",
        "            self.last = self.last.prev\n",
        "            if self.last:\n",
        "                self.last.next = None\n",
        "            else:\n",
        "                # If there is no previous node, set head to None\n",
        "                self.head = None"
      ],
      "metadata": {
        "id": "yf8251JRzhuK"
      },
      "execution_count": null,
      "outputs": []
    },
    {
      "cell_type": "markdown",
      "source": [
        "# PPA2 HASHING\n",
        "\n",
        "\n",
        "\n",
        "\n",
        "\n"
      ],
      "metadata": {
        "id": "nkwWi2c8AOD9"
      }
    },
    {
      "cell_type": "code",
      "source": [
        "class Hashing:\n",
        "    def __init__(self, c1, c2, m):\n",
        "        self.hashtable = [None] * m\n",
        "        self.c1 = c1\n",
        "        self.c2 = c2\n",
        "        self.m = m\n",
        "\n",
        "\n",
        "    def store_data(self, data):\n",
        "        index = self.quadratic_probe(data)\n",
        "        if index is not None:\n",
        "            self.hashtable[index] = data\n",
        "        else:\n",
        "            print(\"Hash table is full\")\n",
        "\n",
        "    def quadratic_probe(self, data):\n",
        "        for i in range(self.m):\n",
        "            index = (self.h(data) + self.c1 * i + self.c2 * i**2) % self.m\n",
        "            if self.hashtable[index] is None:\n",
        "                return index\n",
        "\n",
        "    def h(self, k):\n",
        "        return k % self.m\n",
        "\n",
        "    def display_hashtable(self):\n",
        "        #print(\"Hashtable:\")\n",
        "        print(self.hashtable)\n",
        "\n",
        "# Example usage:\n",
        "c1 = 1\n",
        "c2 = 1\n",
        "m = 11\n",
        "data=[22,44,35,54,36,27]\n",
        "A = Hashing(c1,c2,m)\n",
        "for i in data:\n",
        "\tA.store_data(i)\n",
        "A.display_hashtable()"
      ],
      "metadata": {
        "colab": {
          "base_uri": "https://localhost:8080/"
        },
        "id": "mKhLfExoAZPl",
        "outputId": "f3a1f919-4c38-4158-c0f3-c40236f42dbb"
      },
      "execution_count": null,
      "outputs": [
        {
          "output_type": "stream",
          "name": "stdout",
          "text": [
            "[22, None, 44, 36, 35, 27, None, None, None, None, 54]\n"
          ]
        }
      ]
    },
    {
      "cell_type": "markdown",
      "source": [
        "# GrPA 1 Frequency sort"
      ],
      "metadata": {
        "id": "cm75xFtZcMTv"
      }
    },
    {
      "cell_type": "code",
      "source": [
        "#from collections import Counter\n",
        "def DishPrepareOrder(numbers):\n",
        "    # Count the frequency of each number\n",
        "    #frequency_count = Counter(numbers)\n",
        "    frequency_count = {}\n",
        "\n",
        "    # Count the frequency of each number\n",
        "    for num in numbers:\n",
        "        frequency_count[num] = frequency_count.get(num, 0) + 1\n",
        "\n",
        "    # Sort the numbers first by frequency in descending order and then by the number itself\n",
        "    sorted_numbers = sorted(numbers, key=lambda x: (-frequency_count[x], x))\n",
        "\n",
        "    # Remove duplicates while preserving order\n",
        "    unique_sorted_numbers = list(dict.fromkeys(sorted_numbers))\n",
        "\n",
        "    return unique_sorted_numbers\n",
        "\n",
        "nums = [1006, 1008, 1009, 1008, 1007, 1005, 1008, 1001, 1003, 1009, 1006, 1003, 1004, 1002, 1008, 1005, 1004, 1007, 1006, 1002, 1002, 1001, 1004, 1001, 1003, 1007, 1007, 1005, 1004, 1002]\n",
        "print(DishPrepareOrder(nums))"
      ],
      "metadata": {
        "colab": {
          "base_uri": "https://localhost:8080/"
        },
        "id": "cX8plM5xcMqA",
        "outputId": "e38ee0e0-88a8-47f6-bfaa-96c75ec224c8"
      },
      "execution_count": null,
      "outputs": [
        {
          "output_type": "stream",
          "name": "stdout",
          "text": [
            "[1002, 1004, 1007, 1008, 1001, 1003, 1005, 1006, 1009]\n"
          ]
        }
      ]
    },
    {
      "cell_type": "markdown",
      "source": [
        "#GrPA 2 postfix expression"
      ],
      "metadata": {
        "id": "14RuGRnnPX_Q"
      }
    },
    {
      "cell_type": "code",
      "source": [
        "def evaluate_postfix(expression):\n",
        "    stack = []\n",
        "\n",
        "    operators = set(['+', '-', '*', '/', '**'])\n",
        "\n",
        "    tokens = expression.split()\n",
        "\n",
        "    try:\n",
        "        for token in tokens:\n",
        "            if token.isdigit() or (token[0] == '-' and token[1:].isdigit()):\n",
        "                stack.append(float(token))\n",
        "            elif token in operators:\n",
        "                if token == '**':\n",
        "                    operand2 = stack.pop()\n",
        "                    operand1 = stack.pop()\n",
        "                    result = operand1 ** operand2\n",
        "                    stack.append(result)\n",
        "                else:\n",
        "                    operand2 = stack.pop()\n",
        "                    operand1 = stack.pop()\n",
        "\n",
        "                    if token == '+':\n",
        "                        result = operand1 + operand2\n",
        "                    elif token == '-':\n",
        "                        result = operand1 - operand2\n",
        "                    elif token == '*':\n",
        "                        result = operand1 * operand2\n",
        "                    elif token == '/':\n",
        "                        result = operand1 / operand2\n",
        "\n",
        "                    stack.append(result)\n",
        "            else:\n",
        "                raise ValueError(\"Invalid token in the expression\")\n",
        "\n",
        "    except (IndexError, ValueError):\n",
        "        print(\"Error: Malformed postfix expression\")\n",
        "\n",
        "    if len(stack) == 1:\n",
        "        return stack[0]\n",
        "    else:\n",
        "        print(\"Error: Malformed postfix expression\")\n",
        "\n",
        "# Example usage:\n",
        "postfix_expression = \"2 3 1 * + 9 -\"\n",
        "result = evaluate_postfix(postfix_expression)\n",
        "if result is not None:\n",
        "    print(f\"The result of the postfix expression {postfix_expression} is: {result}\")\n"
      ],
      "metadata": {
        "colab": {
          "base_uri": "https://localhost:8080/"
        },
        "id": "KBmLyZOGPbtm",
        "outputId": "6453017e-17a6-47e8-a8c5-17afaf4f6394"
      },
      "execution_count": 5,
      "outputs": [
        {
          "output_type": "stream",
          "name": "stdout",
          "text": [
            "The result of the postfix expression 2 3 1 * + 9 - is: -4.0\n"
          ]
        }
      ]
    },
    {
      "cell_type": "markdown",
      "source": [
        "# reverse list"
      ],
      "metadata": {
        "id": "wHRJjKEBSZTX"
      }
    },
    {
      "cell_type": "code",
      "source": [
        "def reverse(head):\n",
        "  prev = None\n",
        "  current = head\n",
        "  while current:\n",
        "    next_node = current.next\n",
        "    current.next = prev\n",
        "    prev = current\n",
        "    current = next_node\n",
        "  head = prev\n",
        "  return prev"
      ],
      "metadata": {
        "id": "Piz5erx1Sart"
      },
      "execution_count": 6,
      "outputs": []
    }
  ]
}
