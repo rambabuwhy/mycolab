{
  "nbformat": 4,
  "nbformat_minor": 0,
  "metadata": {
    "colab": {
      "provenance": [],
      "authorship_tag": "ABX9TyOD1XzkCTEFdTfAjweKC6yq",
      "include_colab_link": true
    },
    "kernelspec": {
      "name": "python3",
      "display_name": "Python 3"
    },
    "language_info": {
      "name": "python"
    }
  },
  "cells": [
    {
      "cell_type": "markdown",
      "metadata": {
        "id": "view-in-github",
        "colab_type": "text"
      },
      "source": [
        "<a href=\"https://colab.research.google.com/github/rambabuwhy/mycolab/blob/main/week1.ipynb\" target=\"_parent\"><img src=\"https://colab.research.google.com/assets/colab-badge.svg\" alt=\"Open In Colab\"/></a>"
      ]
    },
    {
      "cell_type": "markdown",
      "source": [
        "# 1. GCD"
      ],
      "metadata": {
        "id": "lwhiDOAcyVd3"
      }
    },
    {
      "cell_type": "code",
      "execution_count": 41,
      "metadata": {
        "colab": {
          "base_uri": "https://localhost:8080/"
        },
        "id": "EhkrPgpmXo-u",
        "outputId": "5dc4b3f3-b460-41cb-bde4-5d38a3c1bd0e"
      },
      "outputs": [
        {
          "output_type": "stream",
          "name": "stdout",
          "text": [
            "All test cases passed successfully!\n"
          ]
        }
      ],
      "source": [
        "def gcd(x,y):\n",
        "  x,y=max(x,y), min(x,y)\n",
        "  if x%y==0:\n",
        "    return y\n",
        "  else:\n",
        "    return gcd(y,x%y)\n",
        "\n",
        "\n",
        "\n",
        "\n",
        "\n",
        "\n",
        "# Test case 1: GCD of 48 and 18 is 6\n",
        "result1 = gcd(48, 18)\n",
        "assert result1 == 6, f\"Failed for input (48, 18), got {result1}\"\n",
        "\n",
        "# Test case 2: GCD of 60 and 24 is 12\n",
        "result2 = gcd(60, 24)\n",
        "assert result2 == 12, f\"Failed for input (60, 24), got {result2}\"\n",
        "\n",
        "# Test case 3: GCD of 105 and 35 is 35\n",
        "result3 = gcd(105, 35)\n",
        "assert result3 == 35, f\"Failed for input (105, 35), got {result3}\"\n",
        "# Test case 4: GCD of 30 and 18 is not 5 (should fail)\n",
        "result4 = gcd(30, 18)\n",
        "assert result4 == 6, f\"Failed for input (30, 18), got {result4}\"\n",
        "\n",
        "print(\"All test cases passed successfully!\")"
      ]
    },
    {
      "cell_type": "markdown",
      "source": [
        "# 2. Prime or not"
      ],
      "metadata": {
        "id": "PMlHv-PnyiF8"
      }
    },
    {
      "cell_type": "code",
      "source": [
        "import math\n",
        "def prime(n):\n",
        "  result=True\n",
        "  i=2\n",
        "  while result and  i<=math.sqrt(n):\n",
        "    if n%i == 0:\n",
        "      result=False\n",
        "    i = i + 1\n",
        "  return result\n",
        "\n",
        "\n",
        "\n",
        "\n",
        "\n",
        "\n",
        "# Test cases for the prime function\n",
        "assert prime(2) == True  # 2 is a prime number\n",
        "assert prime(17) == True  # 17 is a prime number\n",
        "assert prime(29) == True  # 29 is a prime number\n",
        "assert prime(4) == False  # 4 is not a prime number\n",
        "assert prime(15) == False  # 15 is not a prime number\n",
        "assert prime(97) == True  # 97 is a prime number\n",
        "assert prime(100) == False  # 100 is not a prime number\n",
        "assert prime(113) == True  # 113 is a prime number\n",
        "\n",
        "print(\"All test cases passed successfully!\")"
      ],
      "metadata": {
        "colab": {
          "base_uri": "https://localhost:8080/"
        },
        "id": "L7LTpFvRn3jZ",
        "outputId": "9d955fd0-3326-4e00-be70-9162d0d2c967"
      },
      "execution_count": 42,
      "outputs": [
        {
          "output_type": "stream",
          "name": "stdout",
          "text": [
            "All test cases passed successfully!\n"
          ]
        }
      ]
    },
    {
      "cell_type": "markdown",
      "source": [
        "# 3. Twin Prime"
      ],
      "metadata": {
        "id": "hOjnqs4EyomA"
      }
    },
    {
      "cell_type": "code",
      "source": [
        "def is_prime(num):\n",
        "    if num < 2:\n",
        "        return False\n",
        "    for i in range(2, int(num**0.5) + 1):\n",
        "        if num % i == 0:\n",
        "            return False\n",
        "    return True\n",
        "\n",
        "def Twin_Primes(n, m):\n",
        "    twin_primes = []\n",
        "    for i in range(n, m-1):\n",
        "        if is_prime(i) and is_prime(i + 2):\n",
        "            twin_primes.append((i, i + 2))\n",
        "    return twin_primes\n",
        "\n",
        "\n",
        "\n",
        "\n",
        "\n",
        "\n",
        "# Example usage:\n",
        "# Test Case 1\n",
        "n1 = 3\n",
        "m1 = 20\n",
        "result1 = Twin_Primes(n1, m1)\n",
        "assert result1 == [(3, 5), (5, 7), (11, 13), (17, 19)], f\"Expected {[(3, 5), (5, 7), (11, 13), (17, 19)]}, but got {result1}\"\n",
        "\n",
        "# Test Case 2\n",
        "n2 = 10\n",
        "m2 = 40\n",
        "result2 = Twin_Primes(n2, m2)\n",
        "assert result2 == [(11, 13), (17, 19), (29, 31)], f\"Expected {[(11, 13), (17, 19), (29, 31)]}, but got {result2}\"\n",
        "\n",
        "# Test Case 3\n",
        "# Test Case 3\n",
        "n3 = 50\n",
        "m3 = 80\n",
        "result3 = Twin_Primes(n3, m3)\n",
        "assert result3 == [(59, 61), (71, 73)], f\"Expected {[(59, 61), (71, 73)]}, but got {result3}\"\n",
        "\n",
        "# Test Case 4\n",
        "n4 = 100\n",
        "m4 = 160\n",
        "result4 = Twin_Primes(n4, m4)\n",
        "assert result4 == [(101, 103), (107, 109), (137, 139), (149, 151)], f\"Expected {[(101, 103), (107, 109), (137, 139), (149, 151)]}, but got {result4}\"\n",
        "\n",
        "print(\"All test cases passed!\")\n",
        "\n"
      ],
      "metadata": {
        "colab": {
          "base_uri": "https://localhost:8080/"
        },
        "id": "jb7x31oVqqlR",
        "outputId": "3a9081ef-152a-4bad-bbbd-19c38281fdc1"
      },
      "execution_count": 43,
      "outputs": [
        {
          "output_type": "stream",
          "name": "stdout",
          "text": [
            "All test cases passed!\n"
          ]
        }
      ]
    },
    {
      "cell_type": "markdown",
      "source": [
        "# 4. Triangle Class"
      ],
      "metadata": {
        "id": "C1XmNjxIzob8"
      }
    },
    {
      "cell_type": "code",
      "source": [
        "class Triangle:\n",
        "  def __init__(self,a,b,c):\n",
        "    self.a=a\n",
        "    self.b=b\n",
        "    self.c=c\n",
        "\n",
        "\n",
        "\n",
        "  def Is_valid(self):\n",
        "    a=self.a\n",
        "    b=self.b\n",
        "    c=self.c\n",
        "    if a + b <= c or a + c <= b or b + c <= a:\n",
        "      return \"Invalid\"\n",
        "    return \"Valid\"\n",
        "\n",
        "\n",
        "  def Side_Classification(self):\n",
        "    if self.Is_valid() != \"Valid\":\n",
        "      return \"Invalid\"\n",
        "    a=self.a\n",
        "    b=self.b\n",
        "    c=self.c\n",
        "    if a == b == c:\n",
        "      return \"Equilateral\"\n",
        "    elif a == b or b == c or a == c:\n",
        "      return \"Isosceles\"\n",
        "    else:\n",
        "      return \"Scalene\"\n",
        "\n",
        "\n",
        "\n",
        "  def Angle_Classification(self):\n",
        "    if self.Is_valid() != \"Valid\":\n",
        "      return \"Invalid\"\n",
        "    a=self.a\n",
        "    b=self.b\n",
        "    c=self.c\n",
        "\n",
        "    s=[a,b,c]\n",
        "    s.sort()\n",
        "    if (s[0]**2) + (s[1]**2) > (s[2]**2):\n",
        "        return \"Acute\"\n",
        "    if (s[0]**2) + (s[1]**2) < (s[2]**2):\n",
        "        return \"Obtuse\"\n",
        "    if (s[0]**2) + (s[1]**2) == (s[2]**2):\n",
        "        return \"Right\"\n",
        "\n",
        "  def Area(self):\n",
        "    if self.Is_valid() != \"Valid\":\n",
        "      return \"Invalid\"\n",
        "    a=self.a\n",
        "    b=self.b\n",
        "    c=self.c\n",
        "    s= (a+b+c)/2\n",
        "    area= (s * (s-a)*(s-b)*(s-c)) ** 0.5\n",
        "    return area\n"
      ],
      "metadata": {
        "id": "Bi_L_mApzscJ"
      },
      "execution_count": 55,
      "outputs": []
    },
    {
      "cell_type": "markdown",
      "source": [
        "# 5. find_Min_Difference()"
      ],
      "metadata": {
        "id": "_zITtdyOXVaJ"
      }
    },
    {
      "cell_type": "code",
      "source": [
        "def find_Min_Difference(L, P):\n",
        "    L.sort()\n",
        "    min_diff = float('inf')\n",
        "    for i in range(len(L) - P + 1):\n",
        "\n",
        "        current_diff = L[i + P - 1] - L[i]\n",
        "        min_diff = min(min_diff, current_diff)\n",
        "\n",
        "    return min_diff\n",
        "\n",
        "\n",
        "a=[3,4,1,9,56,7,9,12]\n",
        "assert find_Min_Difference(a,5) == 6\n",
        "print('all Test cases passed')\n"
      ],
      "metadata": {
        "colab": {
          "base_uri": "https://localhost:8080/"
        },
        "id": "XOWDbGNB39oW",
        "outputId": "15bc2f6c-cd6b-4282-c962-4bbb0ee8caed"
      },
      "execution_count": 19,
      "outputs": [
        {
          "output_type": "stream",
          "name": "stdout",
          "text": [
            "all Test cases passed\n"
          ]
        }
      ]
    },
    {
      "cell_type": "markdown",
      "source": [
        "# 6.Gold Bach()"
      ],
      "metadata": {
        "id": "2AKVRRsBbwQx"
      }
    },
    {
      "cell_type": "code",
      "source": [
        "import math\n",
        "\n",
        "def is_prime(num):\n",
        "    if num < 2:\n",
        "        return False\n",
        "    for i in range(2, int(math.sqrt(num)) + 1):\n",
        "        if num % i == 0:\n",
        "            return False\n",
        "    return True\n",
        "\n",
        "def Goldbach(n):\n",
        "    if n < 4 or n % 2 != 0:\n",
        "        raise ValueError(\"Goldbach's conjecture is only applicable to even integers greater than or equal to 4.\")\n",
        "\n",
        "    result = []\n",
        "    for i in range(2, n // 2 + 1):\n",
        "        if is_prime(i) and is_prime(n - i):\n",
        "            result.append((i, n - i))\n",
        "    return result\n",
        "\n",
        "\n",
        "\n",
        "\n",
        "print(Goldbach(12))\n",
        "print(Goldbach(26))\n"
      ],
      "metadata": {
        "colab": {
          "base_uri": "https://localhost:8080/"
        },
        "id": "LJokTyhObzlY",
        "outputId": "8b063fe5-a3fb-44c8-b621-00d997f2a8f2"
      },
      "execution_count": 46,
      "outputs": [
        {
          "output_type": "stream",
          "name": "stdout",
          "text": [
            "[(5, 7)]\n",
            "[(3, 23), (7, 19), (13, 13)]\n"
          ]
        }
      ]
    },
    {
      "cell_type": "markdown",
      "source": [
        "# 6. odd_one()"
      ],
      "metadata": {
        "id": "Tkdf7j-htpty"
      }
    },
    {
      "cell_type": "code",
      "source": [
        "def odd_one(input_list):\n",
        "    if len(input_list) < 2:\n",
        "        return None\n",
        "\n",
        "    element_types = [type(element) for element in input_list]\n",
        "\n",
        "    for element_type in element_types:\n",
        "        if element_types.count(element_type) == 1:\n",
        "            return element_type.__name__\n",
        "\n",
        "    return None\n",
        "\n",
        "# Example usage:\n",
        "my_list = ['three', 1, 2, 4, 5.0]\n",
        "result = odd_one(my_list)\n",
        "\n",
        "print(result)\n",
        "\n",
        "\n"
      ],
      "metadata": {
        "colab": {
          "base_uri": "https://localhost:8080/"
        },
        "id": "xPaf_9Z8tz09",
        "outputId": "b74a3ac8-a5ef-40bd-ee61-e2963693182f"
      },
      "execution_count": 57,
      "outputs": [
        {
          "output_type": "stream",
          "name": "stdout",
          "text": [
            "str\n"
          ]
        }
      ]
    }
  ]
}
