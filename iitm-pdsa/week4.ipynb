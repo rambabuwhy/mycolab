{
  "nbformat": 4,
  "nbformat_minor": 0,
  "metadata": {
    "colab": {
      "provenance": [],
      "authorship_tag": "ABX9TyP4sbvkFyXWwumL+8fO6hHO",
      "include_colab_link": true
    },
    "kernelspec": {
      "name": "python3",
      "display_name": "Python 3"
    },
    "language_info": {
      "name": "python"
    }
  },
  "cells": [
    {
      "cell_type": "markdown",
      "metadata": {
        "id": "view-in-github",
        "colab_type": "text"
      },
      "source": [
        "<a href=\"https://colab.research.google.com/github/rambabuwhy/mycolab/blob/main/iitm-pdsa/week4.ipynb\" target=\"_parent\"><img src=\"https://colab.research.google.com/assets/colab-badge.svg\" alt=\"Open In Colab\"/></a>"
      ]
    },
    {
      "cell_type": "markdown",
      "source": [
        "# BFS"
      ],
      "metadata": {
        "id": "iEwWKHTrEHMF"
      }
    },
    {
      "cell_type": "code",
      "execution_count": 2,
      "metadata": {
        "colab": {
          "base_uri": "https://localhost:8080/"
        },
        "id": "Z9Sr0bVrD2gV",
        "outputId": "686c5e03-a3cc-4619-94b3-3002833f4060"
      },
      "outputs": [
        {
          "output_type": "stream",
          "name": "stdout",
          "text": [
            "Parents: {'A': None, 'B': 'A', 'C': 'A', 'D': 'B', 'E': 'B', 'F': 'C', 'G': 'C'}\n",
            "Distances: {'A': 0, 'B': 1, 'C': 1, 'D': 2, 'E': 2, 'F': 2, 'G': 2}\n"
          ]
        }
      ],
      "source": [
        "from collections import deque\n",
        "\n",
        "def bfs(graph, start):\n",
        "    visited = set()\n",
        "    parents = {start: None}\n",
        "    distances = {start: 0}\n",
        "\n",
        "    queue = deque([start])\n",
        "\n",
        "    while queue:\n",
        "        current_node = queue.popleft()\n",
        "        visited.add(current_node)\n",
        "\n",
        "        for neighbor in graph[current_node]:\n",
        "            if neighbor not in visited:\n",
        "                queue.append(neighbor)\n",
        "                visited.add(neighbor)\n",
        "                parents[neighbor] = current_node\n",
        "                distances[neighbor] = distances[current_node] + 1\n",
        "\n",
        "    return parents, distances\n",
        "\n",
        "# Example usage:\n",
        "# Let's consider a simple graph as an adjacency list.\n",
        "# {node: [list of neighbors]}\n",
        "\n",
        "graph = {\n",
        "    'A': ['B', 'C'],\n",
        "    'B': ['A', 'D', 'E'],\n",
        "    'C': ['A', 'F', 'G'],\n",
        "    'D': ['B'],\n",
        "    'E': ['B'],\n",
        "    'F': ['C'],\n",
        "    'G': ['C']\n",
        "}\n",
        "\n",
        "start_node = 'A'\n",
        "parents, distances = bfs(graph, start_node)\n",
        "\n",
        "print(\"Parents:\", parents)\n",
        "print(\"Distances:\", distances)\n"
      ]
    },
    {
      "cell_type": "markdown",
      "source": [
        "# DFS"
      ],
      "metadata": {
        "id": "YrQPyX8DE53C"
      }
    },
    {
      "cell_type": "code",
      "source": [
        "def dfs(graph, start):\n",
        "    visited = set()\n",
        "    parents = {start: None}\n",
        "    distances = {start: 0}\n",
        "\n",
        "    def dfs_recursive(node):\n",
        "        nonlocal visited\n",
        "        nonlocal parents\n",
        "        nonlocal distances\n",
        "\n",
        "        visited.add(node)\n",
        "\n",
        "        for neighbor in graph[node]:\n",
        "            if neighbor not in visited:\n",
        "                parents[neighbor] = node\n",
        "                distances[neighbor] = distances[node] + 1\n",
        "                dfs_recursive(neighbor)\n",
        "\n",
        "    dfs_recursive(start)\n",
        "\n",
        "    return parents, distances\n",
        "\n",
        "# Example usage:\n",
        "# Let's consider the same graph as in the BFS example\n",
        "\n",
        "graph = {\n",
        "    'A': ['B', 'C'],\n",
        "    'B': ['A', 'D', 'E'],\n",
        "    'C': ['A', 'F', 'G'],\n",
        "    'D': ['B'],\n",
        "    'E': ['B'],\n",
        "    'F': ['C'],\n",
        "    'G': ['C']\n",
        "}\n",
        "\n",
        "start_node = 'A'\n",
        "parents, distances = dfs(graph, start_node)\n",
        "\n",
        "print(\"Parents:\", parents)\n",
        "print(\"Distances:\", distances)\n"
      ],
      "metadata": {
        "colab": {
          "base_uri": "https://localhost:8080/"
        },
        "id": "L0mTl57vE7bS",
        "outputId": "def298fb-0b47-4dc8-b50c-e1e97ebe7236"
      },
      "execution_count": 3,
      "outputs": [
        {
          "output_type": "stream",
          "name": "stdout",
          "text": [
            "Parents: {'A': None, 'B': 'A', 'D': 'B', 'E': 'B', 'C': 'A', 'F': 'C', 'G': 'C'}\n",
            "Distances: {'A': 0, 'B': 1, 'D': 2, 'E': 2, 'C': 1, 'F': 2, 'G': 2}\n"
          ]
        }
      ]
    }
  ]
}