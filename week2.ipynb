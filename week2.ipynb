{
  "nbformat": 4,
  "nbformat_minor": 0,
  "metadata": {
    "colab": {
      "provenance": [],
      "authorship_tag": "ABX9TyNZrtT5bFn9NFelJeLX3JJh",
      "include_colab_link": true
    },
    "kernelspec": {
      "name": "python3",
      "display_name": "Python 3"
    },
    "language_info": {
      "name": "python"
    }
  },
  "cells": [
    {
      "cell_type": "markdown",
      "metadata": {
        "id": "view-in-github",
        "colab_type": "text"
      },
      "source": [
        "<a href=\"https://colab.research.google.com/github/rambabuwhy/mycolab/blob/main/week2.ipynb\" target=\"_parent\"><img src=\"https://colab.research.google.com/assets/colab-badge.svg\" alt=\"Open In Colab\"/></a>"
      ]
    },
    {
      "cell_type": "markdown",
      "source": [
        "# Selection sort"
      ],
      "metadata": {
        "id": "CsHnoKsJs7EI"
      }
    },
    {
      "cell_type": "code",
      "execution_count": null,
      "metadata": {
        "id": "yXk_Ye8-nK1h",
        "colab": {
          "base_uri": "https://localhost:8080/"
        },
        "outputId": "8e3d3b86-8a8d-4719-fc4b-3da38f31586b"
      },
      "outputs": [
        {
          "output_type": "stream",
          "name": "stdout",
          "text": [
            "Sorted array: [11, 12, 22, 25, 64]\n"
          ]
        }
      ],
      "source": [
        "def selection_sort(arr):\n",
        "    n = len(arr)\n",
        "\n",
        "    # Traverse through all array elements\n",
        "    for i in range(n):\n",
        "        # Find the minimum element in the unsorted part of the array\n",
        "        min_index = i\n",
        "        for j in range(i + 1, n):\n",
        "            if arr[j] < arr[min_index]:\n",
        "                min_index = j\n",
        "\n",
        "        # Swap the found minimum element with the first element\n",
        "        arr[i], arr[min_index] = arr[min_index], arr[i]\n",
        "\n",
        "# Example usage:\n",
        "my_array = [64, 25, 12, 22, 11]\n",
        "selection_sort(my_array)\n",
        "print(\"Sorted array:\", my_array)\n"
      ]
    },
    {
      "cell_type": "markdown",
      "source": [
        "# Insertion sort"
      ],
      "metadata": {
        "id": "mW3abLhjzigy"
      }
    },
    {
      "cell_type": "code",
      "source": [
        "def insertion_sort(arr):\n",
        "    # Traverse through 1 to len(arr)\n",
        "    for i in range(len(arr)):\n",
        "\n",
        "        # Asuume arr[:i] is sorted\n",
        "        # move arr[i] to correct position in arr[0:i]\n",
        "        j = i\n",
        "        while j > 0 and arr[j] < arr[j-1]:\n",
        "            arr[j],arr[j-1] = arr[j-1],arr[j]\n",
        "            j -= 1\n",
        "\n",
        "# Example usage:\n",
        "my_list = [12, 11, 13, 5, 6]\n",
        "insertion_sort(my_list)\n",
        "print(\"Sorted array:\", my_list)\n"
      ],
      "metadata": {
        "colab": {
          "base_uri": "https://localhost:8080/"
        },
        "id": "ArE1LPGhzlUq",
        "outputId": "9dcbcafe-5150-49e9-b16e-ac5295628be0"
      },
      "execution_count": null,
      "outputs": [
        {
          "output_type": "stream",
          "name": "stdout",
          "text": [
            "Sorted array: [5, 6, 11, 12, 13]\n"
          ]
        }
      ]
    },
    {
      "cell_type": "markdown",
      "source": [
        "# Merge sort"
      ],
      "metadata": {
        "id": "ZiqT4Qyx0r1M"
      }
    },
    {
      "cell_type": "code",
      "source": [
        "def merge_sort(arr):\n",
        "    if len(arr) > 1:\n",
        "        # Find the middle of the array\n",
        "        mid = len(arr) // 2\n",
        "\n",
        "        # Divide the array into two halves\n",
        "        left_half = arr[:mid]\n",
        "        right_half = arr[mid:]\n",
        "\n",
        "        # Recursively sort each half\n",
        "        merge_sort(left_half)\n",
        "        merge_sort(right_half)\n",
        "\n",
        "        # Merge the sorted halves\n",
        "        merge(arr, left_half, right_half)\n",
        "\n",
        "def merge(arr, left, right):\n",
        "    i = j = k = 0\n",
        "\n",
        "    # Compare elements from both halves and merge them in sorted order\n",
        "    while i < len(left) and j < len(right):\n",
        "        if left[i] < right[j]:\n",
        "            arr[k] = left[i]\n",
        "            i += 1\n",
        "        else:\n",
        "            arr[k] = right[j]\n",
        "            j += 1\n",
        "        k += 1\n",
        "\n",
        "    # If there are any remaining elements in the left or right half, add them\n",
        "    while i < len(left):\n",
        "        arr[k] = left[i]\n",
        "        i += 1\n",
        "        k += 1\n",
        "\n",
        "    while j < len(right):\n",
        "        arr[k] = right[j]\n",
        "        j += 1\n",
        "        k += 1\n",
        "\n",
        "# Example usage:\n",
        "my_array = [38, 27, 43, 3, 9, 82, 10]\n",
        "merge_sort(my_array)\n",
        "print(\"Sorted array:\", my_array)\n"
      ],
      "metadata": {
        "colab": {
          "base_uri": "https://localhost:8080/"
        },
        "id": "Fne9e4JM0tYI",
        "outputId": "b2302200-6315-4dfb-d612-0574a6633da3"
      },
      "execution_count": null,
      "outputs": [
        {
          "output_type": "stream",
          "name": "stdout",
          "text": [
            "Sorted array: [3, 9, 10, 27, 38, 43, 82]\n"
          ]
        }
      ]
    },
    {
      "cell_type": "markdown",
      "source": [
        "# Binary search index and comparison"
      ],
      "metadata": {
        "id": "QgnLqDW02nU4"
      }
    },
    {
      "cell_type": "code",
      "source": [
        "def binarySearchIndexAndComparisons(L,k):\n",
        "  found=False\n",
        "  comp=0\n",
        "  left=0\n",
        "  right=len(L)-1\n",
        "  while(not found and left <= right):\n",
        "    mid= (left + right) // 2\n",
        "\n",
        "    if L[mid]==k:\n",
        "      found=True\n",
        "    elif L[mid] < k:\n",
        "      left=mid+1\n",
        "    else:\n",
        "      right=mid-1\n",
        "\n",
        "    comp +=1\n",
        "\n",
        "  return (found, comp)\n",
        "\n",
        "# Example usage:\n",
        "my_array = [2, 6, 8, 11, 17, 23, 33, 44, 46, 50, 65]\n",
        "result=binarySearchIndexAndComparisons(my_array,11)\n",
        "print(\"result:\", result)\n",
        "\n",
        "result=binarySearchIndexAndComparisons(my_array,23)\n",
        "print(\"result:\", result)\n",
        "\n",
        "result=binarySearchIndexAndComparisons(my_array,100)\n",
        "print(\"result:\", result)\n"
      ],
      "metadata": {
        "colab": {
          "base_uri": "https://localhost:8080/"
        },
        "id": "uYxBaMrD2teX",
        "outputId": "7074760c-1009-4fcd-f92b-4f7a416711b7"
      },
      "execution_count": null,
      "outputs": [
        {
          "output_type": "stream",
          "name": "stdout",
          "text": [
            "result: (True, 3)\n",
            "result: (True, 1)\n",
            "result: (False, 4)\n"
          ]
        }
      ]
    },
    {
      "cell_type": "markdown",
      "source": [
        "# sort in range"
      ],
      "metadata": {
        "id": "ObK2tDUeDFfD"
      }
    },
    {
      "cell_type": "code",
      "source": [
        "def reconstruct_list(L, r):\n",
        "    # Initialize a frequency array with size r\n",
        "    frequency = [0] * r\n",
        "\n",
        "    # Count the frequency of each element in L\n",
        "    for num in L:\n",
        "        frequency[num] += 1\n",
        "\n",
        "    # Reconstruct the original list in-place based on counts\n",
        "    index = 0\n",
        "    for i in range(r):\n",
        "        count = frequency[i]\n",
        "        L[index:index + count] = [i] * count\n",
        "        index += count\n",
        "\n",
        "    return L\n",
        "\n",
        "# Example usage:\n",
        "L = [2, 0, 1, 1, 2, 3, 0, 2, 1, 0, 2, 3, 1, 2]\n",
        "r = 4\n",
        "result = reconstruct_list(L, r)\n",
        "print(result)"
      ],
      "metadata": {
        "colab": {
          "base_uri": "https://localhost:8080/"
        },
        "id": "gA7QtVgrXifH",
        "outputId": "54f4610e-e872-4799-b94b-1f25ca4c4019"
      },
      "execution_count": 21,
      "outputs": [
        {
          "output_type": "stream",
          "name": "stdout",
          "text": [
            "[0, 0, 0, 1, 1, 1, 1, 2, 2, 2, 2, 2, 3, 3]\n"
          ]
        }
      ]
    }
  ]
}