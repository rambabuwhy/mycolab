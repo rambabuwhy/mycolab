{
  "nbformat": 4,
  "nbformat_minor": 0,
  "metadata": {
    "colab": {
      "provenance": [],
      "authorship_tag": "ABX9TyOU7r2dJoGAMigbQ72sZV1/",
      "include_colab_link": true
    },
    "kernelspec": {
      "name": "python3",
      "display_name": "Python 3"
    },
    "language_info": {
      "name": "python"
    }
  },
  "cells": [
    {
      "cell_type": "markdown",
      "metadata": {
        "id": "view-in-github",
        "colab_type": "text"
      },
      "source": [
        "<a href=\"https://colab.research.google.com/github/rambabuwhy/mycolab/blob/main/week2.ipynb\" target=\"_parent\"><img src=\"https://colab.research.google.com/assets/colab-badge.svg\" alt=\"Open In Colab\"/></a>"
      ]
    },
    {
      "cell_type": "markdown",
      "source": [
        "# Selection sort"
      ],
      "metadata": {
        "id": "CsHnoKsJs7EI"
      }
    },
    {
      "cell_type": "code",
      "execution_count": null,
      "metadata": {
        "id": "yXk_Ye8-nK1h",
        "colab": {
          "base_uri": "https://localhost:8080/"
        },
        "outputId": "8e3d3b86-8a8d-4719-fc4b-3da38f31586b"
      },
      "outputs": [
        {
          "output_type": "stream",
          "name": "stdout",
          "text": [
            "Sorted array: [11, 12, 22, 25, 64]\n"
          ]
        }
      ],
      "source": [
        "def selection_sort(arr):\n",
        "    n = len(arr)\n",
        "\n",
        "    # Traverse through all array elements\n",
        "    for i in range(n):\n",
        "        # Find the minimum element in the unsorted part of the array\n",
        "        min_index = i\n",
        "        for j in range(i + 1, n):\n",
        "            if arr[j] < arr[min_index]:\n",
        "                min_index = j\n",
        "\n",
        "        # Swap the found minimum element with the first element\n",
        "        arr[i], arr[min_index] = arr[min_index], arr[i]\n",
        "\n",
        "# Example usage:\n",
        "my_array = [64, 25, 12, 22, 11]\n",
        "selection_sort(my_array)\n",
        "print(\"Sorted array:\", my_array)\n"
      ]
    },
    {
      "cell_type": "markdown",
      "source": [
        "# Insertion sort"
      ],
      "metadata": {
        "id": "mW3abLhjzigy"
      }
    },
    {
      "cell_type": "code",
      "source": [
        "def insertion_sort(arr):\n",
        "    # Traverse through 1 to len(arr)\n",
        "    for i in range(len(arr)):\n",
        "\n",
        "        # Asuume arr[:i] is sorted\n",
        "        # move arr[i] to correct position in arr[0:i]\n",
        "        j = i\n",
        "        while j > 0 and arr[j] < arr[j-1]:\n",
        "            arr[j],arr[j-1] = arr[j-1],arr[j]\n",
        "            j -= 1\n",
        "\n",
        "# Example usage:\n",
        "my_list = [12, 11, 13, 5, 6]\n",
        "insertion_sort(my_list)\n",
        "print(\"Sorted array:\", my_list)\n"
      ],
      "metadata": {
        "colab": {
          "base_uri": "https://localhost:8080/"
        },
        "id": "ArE1LPGhzlUq",
        "outputId": "9dcbcafe-5150-49e9-b16e-ac5295628be0"
      },
      "execution_count": null,
      "outputs": [
        {
          "output_type": "stream",
          "name": "stdout",
          "text": [
            "Sorted array: [5, 6, 11, 12, 13]\n"
          ]
        }
      ]
    },
    {
      "cell_type": "markdown",
      "source": [
        "# Merge sort"
      ],
      "metadata": {
        "id": "ZiqT4Qyx0r1M"
      }
    },
    {
      "cell_type": "code",
      "source": [
        "def merge_sort(arr):\n",
        "    if len(arr) > 1:\n",
        "        # Find the middle of the array\n",
        "        mid = len(arr) // 2\n",
        "\n",
        "        # Divide the array into two halves\n",
        "        left_half = arr[:mid]\n",
        "        right_half = arr[mid:]\n",
        "\n",
        "        # Recursively sort each half\n",
        "        merge_sort(left_half)\n",
        "        merge_sort(right_half)\n",
        "\n",
        "        # Merge the sorted halves\n",
        "        merge(arr, left_half, right_half)\n",
        "\n",
        "def merge(arr, left, right):\n",
        "    i = j = k = 0\n",
        "\n",
        "    # Compare elements from both halves and merge them in sorted order\n",
        "    while i < len(left) and j < len(right):\n",
        "        if left[i] < right[j]:\n",
        "            arr[k] = left[i]\n",
        "            i += 1\n",
        "        else:\n",
        "            arr[k] = right[j]\n",
        "            j += 1\n",
        "        k += 1\n",
        "\n",
        "    # If there are any remaining elements in the left or right half, add them\n",
        "    while i < len(left):\n",
        "        arr[k] = left[i]\n",
        "        i += 1\n",
        "        k += 1\n",
        "\n",
        "    while j < len(right):\n",
        "        arr[k] = right[j]\n",
        "        j += 1\n",
        "        k += 1\n",
        "\n",
        "# Example usage:\n",
        "my_array = [38, 27, 43, 3, 9, 82, 10]\n",
        "merge_sort(my_array)\n",
        "print(\"Sorted array:\", my_array)\n"
      ],
      "metadata": {
        "colab": {
          "base_uri": "https://localhost:8080/"
        },
        "id": "Fne9e4JM0tYI",
        "outputId": "b2302200-6315-4dfb-d612-0574a6633da3"
      },
      "execution_count": null,
      "outputs": [
        {
          "output_type": "stream",
          "name": "stdout",
          "text": [
            "Sorted array: [3, 9, 10, 27, 38, 43, 82]\n"
          ]
        }
      ]
    },
    {
      "cell_type": "markdown",
      "source": [
        "# Binary search index and comparison"
      ],
      "metadata": {
        "id": "QgnLqDW02nU4"
      }
    },
    {
      "cell_type": "code",
      "source": [
        "def binarySearchIndexAndComparisons(L,k):\n",
        "  found=False\n",
        "  comp=0\n",
        "  left=0\n",
        "  right=len(L)-1\n",
        "  while(not found and left <= right):\n",
        "    mid= (left + right) // 2\n",
        "\n",
        "    if L[mid]==k:\n",
        "      found=True\n",
        "    elif L[mid] < k:\n",
        "      left=mid+1\n",
        "    else:\n",
        "      right=mid-1\n",
        "\n",
        "    comp +=1\n",
        "\n",
        "  return (found, comp)\n",
        "\n",
        "# Example usage:\n",
        "my_array = [2, 6, 8, 11, 17, 23, 33, 44, 46, 50, 65]\n",
        "result=binarySearchIndexAndComparisons(my_array,11)\n",
        "print(\"result:\", result)\n",
        "\n",
        "result=binarySearchIndexAndComparisons(my_array,23)\n",
        "print(\"result:\", result)\n",
        "\n",
        "result=binarySearchIndexAndComparisons(my_array,100)\n",
        "print(\"result:\", result)\n"
      ],
      "metadata": {
        "colab": {
          "base_uri": "https://localhost:8080/"
        },
        "id": "uYxBaMrD2teX",
        "outputId": "7074760c-1009-4fcd-f92b-4f7a416711b7"
      },
      "execution_count": null,
      "outputs": [
        {
          "output_type": "stream",
          "name": "stdout",
          "text": [
            "result: (True, 3)\n",
            "result: (True, 1)\n",
            "result: (False, 4)\n"
          ]
        }
      ]
    },
    {
      "cell_type": "markdown",
      "source": [
        "# sort in range"
      ],
      "metadata": {
        "id": "ObK2tDUeDFfD"
      }
    },
    {
      "cell_type": "code",
      "source": [
        "def reconstruct_list(L, r):\n",
        "    # Initialize a frequency array with size r\n",
        "    frequency = [0] * r\n",
        "\n",
        "    # Count the frequency of each element in L\n",
        "    for num in L:\n",
        "        frequency[num] += 1\n",
        "\n",
        "    # Reconstruct the original list in-place based on counts\n",
        "    index = 0\n",
        "    for i in range(r):\n",
        "        count = frequency[i]\n",
        "        L[index:index + count] = [i] * count\n",
        "        index += count\n",
        "\n",
        "    return L\n",
        "\n",
        "# Example usage:\n",
        "L = [2, 0, 1, 1, 2, 3, 0, 2, 1, 0, 2, 3, 1, 2]\n",
        "r = 4\n",
        "result = reconstruct_list(L, r)\n",
        "print(result)"
      ],
      "metadata": {
        "colab": {
          "base_uri": "https://localhost:8080/"
        },
        "id": "gA7QtVgrXifH",
        "outputId": "8f24e73f-ca5c-4952-c95e-859baabd503f"
      },
      "execution_count": 61,
      "outputs": [
        {
          "output_type": "stream",
          "name": "stdout",
          "text": [
            "A: [1, 3]\n",
            "B: [4, 6, 6, 10]\n"
          ]
        }
      ]
    },
    {
      "cell_type": "markdown",
      "source": [
        "# combination sort"
      ],
      "metadata": {
        "id": "kfVv0YvUy-tt"
      }
    },
    {
      "cell_type": "code",
      "source": [
        "def combinationSort(strList):\n",
        "    # Sort the list based on the first character only, maintaining the original order for strings with the same initial character\n",
        "    L1 = sorted(strList, key=lambda x: (x[0], strList.index(x)))\n",
        "\n",
        "    # Sort L1 in descending order based on the number formed by the remaining characters\n",
        "    L2 = sorted(L1, key=lambda x: (x[0], -int(x[1:])))\n",
        "\n",
        "    return L1, L2\n",
        "\n",
        "# Example usage:\n",
        "strList = ['d34', 'g54', 'd12', 'b87', 'g1', 'c65', 'g40', 'g5', 'd77']\n",
        "L1, L2 = combinationSort(strList)\n",
        "print(\"L1:\", ', '.join(L1))\n",
        "print(\"L2:\", ', '.join(L2))\n"
      ],
      "metadata": {
        "colab": {
          "base_uri": "https://localhost:8080/"
        },
        "id": "VM-FN6TZzBAW",
        "outputId": "fabad0d1-3486-4d94-8219-d20294b7fd48"
      },
      "execution_count": null,
      "outputs": [
        {
          "output_type": "stream",
          "name": "stdout",
          "text": [
            "L1: b87, c65, d34, d12, d77, g54, g1, g40, g5\n",
            "L2: b87, c65, d77, d34, d12, g54, g40, g5, g1\n"
          ]
        }
      ]
    },
    {
      "cell_type": "markdown",
      "source": [
        "# larget element"
      ],
      "metadata": {
        "id": "Y4yy6QXkKAiR"
      }
    },
    {
      "cell_type": "code",
      "source": [
        "def find_max_in_rotated_array(arr):\n",
        "    # Initialize low and high pointers for binary search\n",
        "    low, high = 0, len(arr) - 1\n",
        "\n",
        "    # Perform binary search\n",
        "    while low < high:\n",
        "        # Calculate mid point\n",
        "        mid = (low + high) // 2\n",
        "\n",
        "        # Check if the element at mid is greater than the next element\n",
        "        if arr[mid] > arr[mid + 1]:\n",
        "            # If true, the next element is the maximum in the rotated array\n",
        "            return arr[mid]\n",
        "        # If the element at mid is greater than or equal to the first element\n",
        "        elif arr[mid] >= arr[low]:\n",
        "            # Search in the right half of the array\n",
        "            low = mid + 1\n",
        "        else:\n",
        "            # Search in the left half of the array\n",
        "            high = mid\n",
        "\n",
        "    # When low is equal to high, we have found the maximum element\n",
        "    return arr[low]\n",
        "\n",
        "# Example usage:\n",
        "arr = [4, 5, 6, 7, 8]\n",
        "max_element = find_max_in_rotated_array(arr)\n",
        "print(\"Maximum element in the rotated array:\", max_element)\n"
      ],
      "metadata": {
        "colab": {
          "base_uri": "https://localhost:8080/"
        },
        "id": "2ZzeeEt7KCfx",
        "outputId": "ffe7e545-b821-4bb7-8fad-6823de803212"
      },
      "execution_count": 40,
      "outputs": [
        {
          "output_type": "stream",
          "name": "stdout",
          "text": [
            "Maximum element in the rotated array: 8\n"
          ]
        }
      ]
    },
    {
      "cell_type": "markdown",
      "source": [
        "# merge two sorted list"
      ],
      "metadata": {
        "id": "ehlzKJcwPqYd"
      }
    },
    {
      "cell_type": "code",
      "source": [
        "def mergeInPlace(A, B):\n",
        "    m, n = len(A), len(B)\n",
        "\n",
        "    # Iterate through each element in A\n",
        "    for i in range(m):\n",
        "        # Compare the current element in A with the first element in B\n",
        "        if A[i] > B[0]:\n",
        "            # If the element in A is greater, swap it with the first element in B\n",
        "            A.swap(i, B, 0)\n",
        "\n",
        "            # Move the swapped element in B to its correct position\n",
        "            j = 0\n",
        "            while j < n - 1 and B[j] > B[j + 1]:\n",
        "                B.swap(j, B, j + 1)\n",
        "                j += 1\n",
        "\n",
        "# Example usage:\n",
        "A = MyList([4, 6])\n",
        "B = MyList([1, 3, 6, 10])\n",
        "\n",
        "mergeInPlace(A, B)\n",
        "\n",
        "print(\"A:\", A.elements)\n",
        "print(\"B:\", B.elements)"
      ],
      "metadata": {
        "colab": {
          "base_uri": "https://localhost:8080/",
          "height": 366
        },
        "id": "ojuzGwFpPuDy",
        "outputId": "37b2d12c-68b2-4706-9553-dffe71e45fdd"
      },
      "execution_count": 75,
      "outputs": [
        {
          "output_type": "error",
          "ename": "TypeError",
          "evalue": "object of type 'MyList' has no len()",
          "traceback": [
            "\u001b[0;31m---------------------------------------------------------------------------\u001b[0m",
            "\u001b[0;31mTypeError\u001b[0m                                 Traceback (most recent call last)",
            "\u001b[0;32m<ipython-input-75-0641f7393158>\u001b[0m in \u001b[0;36m<cell line: 35>\u001b[0;34m()\u001b[0m\n\u001b[1;32m     33\u001b[0m \u001b[0mB\u001b[0m \u001b[0;34m=\u001b[0m \u001b[0mMyList\u001b[0m\u001b[0;34m(\u001b[0m\u001b[0;34m[\u001b[0m\u001b[0;36m1\u001b[0m\u001b[0;34m,\u001b[0m \u001b[0;36m3\u001b[0m\u001b[0;34m,\u001b[0m \u001b[0;36m6\u001b[0m\u001b[0;34m,\u001b[0m \u001b[0;36m10\u001b[0m\u001b[0;34m]\u001b[0m\u001b[0;34m)\u001b[0m\u001b[0;34m\u001b[0m\u001b[0;34m\u001b[0m\u001b[0m\n\u001b[1;32m     34\u001b[0m \u001b[0;34m\u001b[0m\u001b[0m\n\u001b[0;32m---> 35\u001b[0;31m \u001b[0mmergeInPlace\u001b[0m\u001b[0;34m(\u001b[0m\u001b[0mA\u001b[0m\u001b[0;34m,\u001b[0m \u001b[0mB\u001b[0m\u001b[0;34m)\u001b[0m\u001b[0;34m\u001b[0m\u001b[0;34m\u001b[0m\u001b[0m\n\u001b[0m\u001b[1;32m     36\u001b[0m \u001b[0;34m\u001b[0m\u001b[0m\n\u001b[1;32m     37\u001b[0m \u001b[0mprint\u001b[0m\u001b[0;34m(\u001b[0m\u001b[0;34m\"A:\"\u001b[0m\u001b[0;34m,\u001b[0m \u001b[0mA\u001b[0m\u001b[0;34m.\u001b[0m\u001b[0melements\u001b[0m\u001b[0;34m)\u001b[0m\u001b[0;34m\u001b[0m\u001b[0;34m\u001b[0m\u001b[0m\n",
            "\u001b[0;32m<ipython-input-75-0641f7393158>\u001b[0m in \u001b[0;36mmergeInPlace\u001b[0;34m(A, B)\u001b[0m\n\u001b[1;32m     14\u001b[0m \u001b[0;34m\u001b[0m\u001b[0m\n\u001b[1;32m     15\u001b[0m \u001b[0;32mdef\u001b[0m \u001b[0mmergeInPlace\u001b[0m\u001b[0;34m(\u001b[0m\u001b[0mA\u001b[0m\u001b[0;34m,\u001b[0m \u001b[0mB\u001b[0m\u001b[0;34m)\u001b[0m\u001b[0;34m:\u001b[0m\u001b[0;34m\u001b[0m\u001b[0;34m\u001b[0m\u001b[0m\n\u001b[0;32m---> 16\u001b[0;31m     \u001b[0mm\u001b[0m\u001b[0;34m,\u001b[0m \u001b[0mn\u001b[0m \u001b[0;34m=\u001b[0m \u001b[0mlen\u001b[0m\u001b[0;34m(\u001b[0m\u001b[0mA\u001b[0m\u001b[0;34m)\u001b[0m\u001b[0;34m,\u001b[0m \u001b[0mlen\u001b[0m\u001b[0;34m(\u001b[0m\u001b[0mB\u001b[0m\u001b[0;34m)\u001b[0m\u001b[0;34m\u001b[0m\u001b[0;34m\u001b[0m\u001b[0m\n\u001b[0m\u001b[1;32m     17\u001b[0m \u001b[0;34m\u001b[0m\u001b[0m\n\u001b[1;32m     18\u001b[0m     \u001b[0;31m# Iterate through each element in A\u001b[0m\u001b[0;34m\u001b[0m\u001b[0;34m\u001b[0m\u001b[0m\n",
            "\u001b[0;31mTypeError\u001b[0m: object of type 'MyList' has no len()"
          ]
        }
      ]
    }
  ]
}